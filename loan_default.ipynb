{
 "cells": [
  {
   "cell_type": "markdown",
   "id": "da0da478",
   "metadata": {
    "papermill": {
     "duration": 0.010788,
     "end_time": "2023-02-19T14:12:43.815620",
     "exception": false,
     "start_time": "2023-02-19T14:12:43.804832",
     "status": "completed"
    },
    "tags": []
   },
   "source": [
    "# About Dataset\n",
    "This is a synthetic dataset created using actual data from a financial institution. The data has been modified to remove identifiable features and the numbers transformed to ensure they do not link to original source (financial institution).\n",
    "\n",
    "This is intended to be used for academic purposes for beginners who want to practice financial analytics from a simple financial dataset"
   ]
  },
  {
   "cell_type": "code",
   "execution_count": 3,
   "id": "2ab9dd57",
   "metadata": {
    "_cell_guid": "b1076dfc-b9ad-4769-8c92-a6c4dae69d19",
    "_uuid": "8f2839f25d086af736a60e9eeb907d3b93b6e0e5",
    "execution": {
     "iopub.execute_input": "2023-02-19T14:12:43.836283Z",
     "iopub.status.busy": "2023-02-19T14:12:43.835238Z",
     "iopub.status.idle": "2023-02-19T14:12:53.953950Z",
     "shell.execute_reply": "2023-02-19T14:12:53.951901Z"
    },
    "papermill": {
     "duration": 10.133571,
     "end_time": "2023-02-19T14:12:53.958111",
     "exception": false,
     "start_time": "2023-02-19T14:12:43.824540",
     "status": "completed"
    },
    "tags": []
   },
   "outputs": [],
   "source": [
    "# **DATA PROCESSING**\n",
    "\n",
    "import numpy as np \n",
    "import pandas as pd\n",
    "\n",
    "# **DATA ANALYSIS**\n",
    "\n",
    "import matplotlib.pyplot as plt\n",
    "import seaborn as sns\n",
    "\n",
    "# **PRE PROCESSING**\n",
    "\n",
    "from sklearn.preprocessing import StandardScaler\n",
    "from sklearn.preprocessing import FunctionTransformer\n",
    "\n",
    "# **MACHINE LEARNING MODELS**\n",
    "\n",
    "from sklearn.neighbors import KNeighborsClassifier\n",
    "from sklearn.linear_model import LogisticRegression\n",
    "from sklearn.naive_bayes import GaussianNB\n",
    "from sklearn.tree import DecisionTreeClassifier\n",
    "from sklearn.ensemble import RandomForestClassifier\n",
    "\n",
    "# **NEURAL NETWORKS**\n",
    "\n",
    "from tensorflow.keras import Sequential\n",
    "from tensorflow.keras.layers import Dense\n",
    "\n",
    "# **METRICS**\n",
    "\n",
    "from sklearn.metrics import accuracy_score, f1_score, precision_score, recall_score, confusion_matrix, classification_report\n"
   ]
  },
  {
   "cell_type": "markdown",
   "id": "40066e00",
   "metadata": {
    "papermill": {
     "duration": 0.008815,
     "end_time": "2023-02-19T14:12:53.976510",
     "exception": false,
     "start_time": "2023-02-19T14:12:53.967695",
     "status": "completed"
    },
    "tags": []
   },
   "source": [
    "Lets import our main data into the notebook"
   ]
  },
  {
   "cell_type": "code",
   "execution_count": 5,
   "id": "14ce2bc7",
   "metadata": {
    "execution": {
     "iopub.execute_input": "2023-02-19T14:12:53.998022Z",
     "iopub.status.busy": "2023-02-19T14:12:53.997312Z",
     "iopub.status.idle": "2023-02-19T14:12:54.035794Z",
     "shell.execute_reply": "2023-02-19T14:12:54.034028Z"
    },
    "papermill": {
     "duration": 0.053119,
     "end_time": "2023-02-19T14:12:54.039290",
     "exception": false,
     "start_time": "2023-02-19T14:12:53.986171",
     "status": "completed"
    },
    "tags": []
   },
   "outputs": [],
   "source": [
    "data = pd.read_csv(\"Default_Fin.csv\")"
   ]
  },
  {
   "cell_type": "markdown",
   "id": "f8b70e98",
   "metadata": {
    "papermill": {
     "duration": 0.009039,
     "end_time": "2023-02-19T14:12:54.057871",
     "exception": false,
     "start_time": "2023-02-19T14:12:54.048832",
     "status": "completed"
    },
    "tags": []
   },
   "source": [
    "It is a good habit to take a look at the data first. It gives us a lot of knowledge"
   ]
  },
  {
   "cell_type": "code",
   "execution_count": 6,
   "id": "32d138d1",
   "metadata": {
    "execution": {
     "iopub.execute_input": "2023-02-19T14:12:54.082711Z",
     "iopub.status.busy": "2023-02-19T14:12:54.082202Z",
     "iopub.status.idle": "2023-02-19T14:12:54.124546Z",
     "shell.execute_reply": "2023-02-19T14:12:54.122516Z"
    },
    "papermill": {
     "duration": 0.059415,
     "end_time": "2023-02-19T14:12:54.128475",
     "exception": false,
     "start_time": "2023-02-19T14:12:54.069060",
     "status": "completed"
    },
    "tags": []
   },
   "outputs": [
    {
     "data": {
      "text/html": [
       "<div>\n",
       "<style scoped>\n",
       "    .dataframe tbody tr th:only-of-type {\n",
       "        vertical-align: middle;\n",
       "    }\n",
       "\n",
       "    .dataframe tbody tr th {\n",
       "        vertical-align: top;\n",
       "    }\n",
       "\n",
       "    .dataframe thead th {\n",
       "        text-align: right;\n",
       "    }\n",
       "</style>\n",
       "<table border=\"1\" class=\"dataframe\">\n",
       "  <thead>\n",
       "    <tr style=\"text-align: right;\">\n",
       "      <th></th>\n",
       "      <th>Index</th>\n",
       "      <th>Employed</th>\n",
       "      <th>Bank Balance</th>\n",
       "      <th>Annual Salary</th>\n",
       "      <th>Defaulted?</th>\n",
       "    </tr>\n",
       "  </thead>\n",
       "  <tbody>\n",
       "    <tr>\n",
       "      <th>0</th>\n",
       "      <td>1</td>\n",
       "      <td>1</td>\n",
       "      <td>8754.36</td>\n",
       "      <td>532339.56</td>\n",
       "      <td>0</td>\n",
       "    </tr>\n",
       "    <tr>\n",
       "      <th>1</th>\n",
       "      <td>2</td>\n",
       "      <td>0</td>\n",
       "      <td>9806.16</td>\n",
       "      <td>145273.56</td>\n",
       "      <td>0</td>\n",
       "    </tr>\n",
       "    <tr>\n",
       "      <th>2</th>\n",
       "      <td>3</td>\n",
       "      <td>1</td>\n",
       "      <td>12882.60</td>\n",
       "      <td>381205.68</td>\n",
       "      <td>0</td>\n",
       "    </tr>\n",
       "    <tr>\n",
       "      <th>3</th>\n",
       "      <td>4</td>\n",
       "      <td>1</td>\n",
       "      <td>6351.00</td>\n",
       "      <td>428453.88</td>\n",
       "      <td>0</td>\n",
       "    </tr>\n",
       "    <tr>\n",
       "      <th>4</th>\n",
       "      <td>5</td>\n",
       "      <td>1</td>\n",
       "      <td>9427.92</td>\n",
       "      <td>461562.00</td>\n",
       "      <td>0</td>\n",
       "    </tr>\n",
       "    <tr>\n",
       "      <th>...</th>\n",
       "      <td>...</td>\n",
       "      <td>...</td>\n",
       "      <td>...</td>\n",
       "      <td>...</td>\n",
       "      <td>...</td>\n",
       "    </tr>\n",
       "    <tr>\n",
       "      <th>9995</th>\n",
       "      <td>9996</td>\n",
       "      <td>1</td>\n",
       "      <td>8538.72</td>\n",
       "      <td>635908.56</td>\n",
       "      <td>0</td>\n",
       "    </tr>\n",
       "    <tr>\n",
       "      <th>9996</th>\n",
       "      <td>9997</td>\n",
       "      <td>1</td>\n",
       "      <td>9095.52</td>\n",
       "      <td>235928.64</td>\n",
       "      <td>0</td>\n",
       "    </tr>\n",
       "    <tr>\n",
       "      <th>9997</th>\n",
       "      <td>9998</td>\n",
       "      <td>1</td>\n",
       "      <td>10144.92</td>\n",
       "      <td>703633.92</td>\n",
       "      <td>0</td>\n",
       "    </tr>\n",
       "    <tr>\n",
       "      <th>9998</th>\n",
       "      <td>9999</td>\n",
       "      <td>1</td>\n",
       "      <td>18828.12</td>\n",
       "      <td>440029.32</td>\n",
       "      <td>0</td>\n",
       "    </tr>\n",
       "    <tr>\n",
       "      <th>9999</th>\n",
       "      <td>10000</td>\n",
       "      <td>0</td>\n",
       "      <td>2411.04</td>\n",
       "      <td>202355.40</td>\n",
       "      <td>0</td>\n",
       "    </tr>\n",
       "  </tbody>\n",
       "</table>\n",
       "<p>10000 rows × 5 columns</p>\n",
       "</div>"
      ],
      "text/plain": [
       "      Index  Employed  Bank Balance  Annual Salary  Defaulted?\n",
       "0         1         1       8754.36      532339.56           0\n",
       "1         2         0       9806.16      145273.56           0\n",
       "2         3         1      12882.60      381205.68           0\n",
       "3         4         1       6351.00      428453.88           0\n",
       "4         5         1       9427.92      461562.00           0\n",
       "...     ...       ...           ...            ...         ...\n",
       "9995   9996         1       8538.72      635908.56           0\n",
       "9996   9997         1       9095.52      235928.64           0\n",
       "9997   9998         1      10144.92      703633.92           0\n",
       "9998   9999         1      18828.12      440029.32           0\n",
       "9999  10000         0       2411.04      202355.40           0\n",
       "\n",
       "[10000 rows x 5 columns]"
      ]
     },
     "execution_count": 6,
     "metadata": {},
     "output_type": "execute_result"
    }
   ],
   "source": [
    "data"
   ]
  },
  {
   "cell_type": "markdown",
   "id": "57bcd20c",
   "metadata": {
    "papermill": {
     "duration": 0.011125,
     "end_time": "2023-02-19T14:12:54.152511",
     "exception": false,
     "start_time": "2023-02-19T14:12:54.141386",
     "status": "completed"
    },
    "tags": []
   },
   "source": [
    "The data have  $10000$rows and  $5$ columns accounting to  $50,000$  values in total. `Id` column seems to be unique/primary key for every feature, so lets just remove it "
   ]
  },
  {
   "cell_type": "code",
   "execution_count": 7,
   "id": "704e23a4",
   "metadata": {
    "execution": {
     "iopub.execute_input": "2023-02-19T14:12:54.174877Z",
     "iopub.status.busy": "2023-02-19T14:12:54.174421Z",
     "iopub.status.idle": "2023-02-19T14:12:54.190108Z",
     "shell.execute_reply": "2023-02-19T14:12:54.188946Z"
    },
    "papermill": {
     "duration": 0.030708,
     "end_time": "2023-02-19T14:12:54.193464",
     "exception": false,
     "start_time": "2023-02-19T14:12:54.162756",
     "status": "completed"
    },
    "tags": []
   },
   "outputs": [],
   "source": [
    "data.drop(\"Index\" , axis = 1 , inplace = True)"
   ]
  },
  {
   "cell_type": "markdown",
   "id": "800c1b87",
   "metadata": {
    "papermill": {
     "duration": 0.010119,
     "end_time": "2023-02-19T14:12:54.218641",
     "exception": false,
     "start_time": "2023-02-19T14:12:54.208522",
     "status": "completed"
    },
    "tags": []
   },
   "source": [
    "And now our data looks better"
   ]
  },
  {
   "cell_type": "code",
   "execution_count": 8,
   "id": "5badbfe1",
   "metadata": {
    "execution": {
     "iopub.execute_input": "2023-02-19T14:12:54.242215Z",
     "iopub.status.busy": "2023-02-19T14:12:54.241501Z",
     "iopub.status.idle": "2023-02-19T14:12:54.262795Z",
     "shell.execute_reply": "2023-02-19T14:12:54.261028Z"
    },
    "papermill": {
     "duration": 0.037739,
     "end_time": "2023-02-19T14:12:54.265881",
     "exception": false,
     "start_time": "2023-02-19T14:12:54.228142",
     "status": "completed"
    },
    "tags": []
   },
   "outputs": [
    {
     "data": {
      "text/html": [
       "<div>\n",
       "<style scoped>\n",
       "    .dataframe tbody tr th:only-of-type {\n",
       "        vertical-align: middle;\n",
       "    }\n",
       "\n",
       "    .dataframe tbody tr th {\n",
       "        vertical-align: top;\n",
       "    }\n",
       "\n",
       "    .dataframe thead th {\n",
       "        text-align: right;\n",
       "    }\n",
       "</style>\n",
       "<table border=\"1\" class=\"dataframe\">\n",
       "  <thead>\n",
       "    <tr style=\"text-align: right;\">\n",
       "      <th></th>\n",
       "      <th>Employed</th>\n",
       "      <th>Bank Balance</th>\n",
       "      <th>Annual Salary</th>\n",
       "      <th>Defaulted?</th>\n",
       "    </tr>\n",
       "  </thead>\n",
       "  <tbody>\n",
       "    <tr>\n",
       "      <th>0</th>\n",
       "      <td>1</td>\n",
       "      <td>8754.36</td>\n",
       "      <td>532339.56</td>\n",
       "      <td>0</td>\n",
       "    </tr>\n",
       "    <tr>\n",
       "      <th>1</th>\n",
       "      <td>0</td>\n",
       "      <td>9806.16</td>\n",
       "      <td>145273.56</td>\n",
       "      <td>0</td>\n",
       "    </tr>\n",
       "    <tr>\n",
       "      <th>2</th>\n",
       "      <td>1</td>\n",
       "      <td>12882.60</td>\n",
       "      <td>381205.68</td>\n",
       "      <td>0</td>\n",
       "    </tr>\n",
       "    <tr>\n",
       "      <th>3</th>\n",
       "      <td>1</td>\n",
       "      <td>6351.00</td>\n",
       "      <td>428453.88</td>\n",
       "      <td>0</td>\n",
       "    </tr>\n",
       "    <tr>\n",
       "      <th>4</th>\n",
       "      <td>1</td>\n",
       "      <td>9427.92</td>\n",
       "      <td>461562.00</td>\n",
       "      <td>0</td>\n",
       "    </tr>\n",
       "    <tr>\n",
       "      <th>...</th>\n",
       "      <td>...</td>\n",
       "      <td>...</td>\n",
       "      <td>...</td>\n",
       "      <td>...</td>\n",
       "    </tr>\n",
       "    <tr>\n",
       "      <th>9995</th>\n",
       "      <td>1</td>\n",
       "      <td>8538.72</td>\n",
       "      <td>635908.56</td>\n",
       "      <td>0</td>\n",
       "    </tr>\n",
       "    <tr>\n",
       "      <th>9996</th>\n",
       "      <td>1</td>\n",
       "      <td>9095.52</td>\n",
       "      <td>235928.64</td>\n",
       "      <td>0</td>\n",
       "    </tr>\n",
       "    <tr>\n",
       "      <th>9997</th>\n",
       "      <td>1</td>\n",
       "      <td>10144.92</td>\n",
       "      <td>703633.92</td>\n",
       "      <td>0</td>\n",
       "    </tr>\n",
       "    <tr>\n",
       "      <th>9998</th>\n",
       "      <td>1</td>\n",
       "      <td>18828.12</td>\n",
       "      <td>440029.32</td>\n",
       "      <td>0</td>\n",
       "    </tr>\n",
       "    <tr>\n",
       "      <th>9999</th>\n",
       "      <td>0</td>\n",
       "      <td>2411.04</td>\n",
       "      <td>202355.40</td>\n",
       "      <td>0</td>\n",
       "    </tr>\n",
       "  </tbody>\n",
       "</table>\n",
       "<p>10000 rows × 4 columns</p>\n",
       "</div>"
      ],
      "text/plain": [
       "      Employed  Bank Balance  Annual Salary  Defaulted?\n",
       "0            1       8754.36      532339.56           0\n",
       "1            0       9806.16      145273.56           0\n",
       "2            1      12882.60      381205.68           0\n",
       "3            1       6351.00      428453.88           0\n",
       "4            1       9427.92      461562.00           0\n",
       "...        ...           ...            ...         ...\n",
       "9995         1       8538.72      635908.56           0\n",
       "9996         1       9095.52      235928.64           0\n",
       "9997         1      10144.92      703633.92           0\n",
       "9998         1      18828.12      440029.32           0\n",
       "9999         0       2411.04      202355.40           0\n",
       "\n",
       "[10000 rows x 4 columns]"
      ]
     },
     "execution_count": 8,
     "metadata": {},
     "output_type": "execute_result"
    }
   ],
   "source": [
    "data"
   ]
  },
  {
   "cell_type": "markdown",
   "id": "63e38aed",
   "metadata": {
    "papermill": {
     "duration": 0.009024,
     "end_time": "2023-02-19T14:12:54.284587",
     "exception": false,
     "start_time": "2023-02-19T14:12:54.275563",
     "status": "completed"
    },
    "tags": []
   },
   "source": [
    "Lets plot some graphs now "
   ]
  },
  {
   "cell_type": "code",
   "execution_count": 9,
   "id": "1f480e47",
   "metadata": {
    "execution": {
     "iopub.execute_input": "2023-02-19T14:12:54.305492Z",
     "iopub.status.busy": "2023-02-19T14:12:54.304928Z",
     "iopub.status.idle": "2023-02-19T14:12:54.702193Z",
     "shell.execute_reply": "2023-02-19T14:12:54.701126Z"
    },
    "papermill": {
     "duration": 0.410769,
     "end_time": "2023-02-19T14:12:54.704721",
     "exception": false,
     "start_time": "2023-02-19T14:12:54.293952",
     "status": "completed"
    },
    "tags": []
   },
   "outputs": [
    {
     "data": {
      "text/plain": [
       "<Axes: xlabel='Bank Balance', ylabel='Density'>"
      ]
     },
     "execution_count": 9,
     "metadata": {},
     "output_type": "execute_result"
    },
    {
     "data": {
      "image/png": "[encoded data removed]",
      "text/plain": [
       "<Figure size 640x480 with 1 Axes>"
      ]
     },
     "metadata": {},
     "output_type": "display_data"
    }
   ],
   "source": [
    "sns.kdeplot(data[\"Bank Balance\"])"
   ]
  },
  {
   "cell_type": "code",
   "execution_count": 10,
   "id": "17c475a2",
   "metadata": {
    "execution": {
     "iopub.execute_input": "2023-02-19T14:12:54.728056Z",
     "iopub.status.busy": "2023-02-19T14:12:54.726822Z",
     "iopub.status.idle": "2023-02-19T14:12:55.007742Z",
     "shell.execute_reply": "2023-02-19T14:12:55.006286Z"
    },
    "papermill": {
     "duration": 0.295616,
     "end_time": "2023-02-19T14:12:55.010766",
     "exception": false,
     "start_time": "2023-02-19T14:12:54.715150",
     "status": "completed"
    },
    "tags": []
   },
   "outputs": [
    {
     "data": {
      "text/plain": [
       "<Axes: xlabel='Annual Salary', ylabel='Density'>"
      ]
     },
     "execution_count": 10,
     "metadata": {},
     "output_type": "execute_result"
    },
    {
     "data": {
      "image/png": "[encoded data removed]",
      "text/plain": [
       "<Figure size 640x480 with 1 Axes>"
      ]
     },
     "metadata": {},
     "output_type": "display_data"
    }
   ],
   "source": [
    "sns.kdeplot(data[\"Annual Salary\"])"
   ]
  },
  {
   "cell_type": "code",
   "execution_count": 11,
   "id": "9e97dd28",
   "metadata": {
    "execution": {
     "iopub.execute_input": "2023-02-19T14:12:55.034630Z",
     "iopub.status.busy": "2023-02-19T14:12:55.034194Z",
     "iopub.status.idle": "2023-02-19T14:12:55.191191Z",
     "shell.execute_reply": "2023-02-19T14:12:55.189496Z"
    },
    "papermill": {
     "duration": 0.172437,
     "end_time": "2023-02-19T14:12:55.194202",
     "exception": false,
     "start_time": "2023-02-19T14:12:55.021765",
     "status": "completed"
    },
    "tags": []
   },
   "outputs": [
    {
     "data": {
      "text/plain": [
       "<Axes: ylabel='Employed'>"
      ]
     },
     "execution_count": 11,
     "metadata": {},
     "output_type": "execute_result"
    },
    {
     "data": {
      "image/png": "[encoded data removed]",
      "text/plain": [
       "<Figure size 640x480 with 1 Axes>"
      ]
     },
     "metadata": {},
     "output_type": "display_data"
    }
   ],
   "source": [
    "data[\"Employed\"].value_counts().plot(kind = \"pie\" , autopct = \"%.2f\" , cmap = \"gist_rainbow\")"
   ]
  },
  {
   "cell_type": "code",
   "execution_count": 12,
   "id": "f3f30614",
   "metadata": {
    "execution": {
     "iopub.execute_input": "2023-02-19T14:12:55.219551Z",
     "iopub.status.busy": "2023-02-19T14:12:55.218838Z",
     "iopub.status.idle": "2023-02-19T14:12:55.325088Z",
     "shell.execute_reply": "2023-02-19T14:12:55.323711Z"
    },
    "papermill": {
     "duration": 0.122069,
     "end_time": "2023-02-19T14:12:55.328128",
     "exception": false,
     "start_time": "2023-02-19T14:12:55.206059",
     "status": "completed"
    },
    "tags": []
   },
   "outputs": [
    {
     "data": {
      "text/plain": [
       "<Axes: ylabel='Defaulted?'>"
      ]
     },
     "execution_count": 12,
     "metadata": {},
     "output_type": "execute_result"
    },
    {
     "data": {
      "image/png": "[encoded data removed]",
      "text/plain": [
       "<Figure size 640x480 with 1 Axes>"
      ]
     },
     "metadata": {},
     "output_type": "display_data"
    }
   ],
   "source": [
    "data[\"Defaulted?\"].value_counts().plot(kind = \"pie\" , autopct = \"%.2f\" , cmap = \"gist_rainbow\")"
   ]
  },
  {
   "cell_type": "code",
   "execution_count": 13,
   "id": "67aa704f",
   "metadata": {
    "execution": {
     "iopub.execute_input": "2023-02-19T14:12:55.353943Z",
     "iopub.status.busy": "2023-02-19T14:12:55.353143Z",
     "iopub.status.idle": "2023-02-19T14:13:01.385006Z",
     "shell.execute_reply": "2023-02-19T14:13:01.383631Z"
    },
    "papermill": {
     "duration": 6.047392,
     "end_time": "2023-02-19T14:13:01.387565",
     "exception": false,
     "start_time": "2023-02-19T14:12:55.340173",
     "status": "completed"
    },
    "tags": []
   },
   "outputs": [
    {
     "data": {
      "text/plain": [
       "<Axes: xlabel='Bank Balance', ylabel='Annual Salary'>"
      ]
     },
     "execution_count": 13,
     "metadata": {},
     "output_type": "execute_result"
    },
    {
     "data": {
      "image/png": "[encoded data removed]",
      "text/plain": [
       "<Figure size 640x480 with 1 Axes>"
      ]
     },
     "metadata": {},
     "output_type": "display_data"
    }
   ],
   "source": [
    "sns.kdeplot(data = data , x = \"Bank Balance\" , y = \"Annual Salary\" , hue = \"Defaulted?\")"
   ]
  },
  {
   "cell_type": "markdown",
   "id": "b2a2d750",
   "metadata": {
    "papermill": {
     "duration": 0.012634,
     "end_time": "2023-02-19T14:13:01.413503",
     "exception": false,
     "start_time": "2023-02-19T14:13:01.400869",
     "status": "completed"
    },
    "tags": []
   },
   "source": [
    "Lets divide our data into train , test "
   ]
  },
  {
   "cell_type": "code",
   "execution_count": 14,
   "id": "bbdf4ac8",
   "metadata": {
    "execution": {
     "iopub.execute_input": "2023-02-19T14:13:01.441190Z",
     "iopub.status.busy": "2023-02-19T14:13:01.440807Z",
     "iopub.status.idle": "2023-02-19T14:13:01.449348Z",
     "shell.execute_reply": "2023-02-19T14:13:01.448410Z"
    },
    "papermill": {
     "duration": 0.025164,
     "end_time": "2023-02-19T14:13:01.451715",
     "exception": false,
     "start_time": "2023-02-19T14:13:01.426551",
     "status": "completed"
    },
    "tags": []
   },
   "outputs": [],
   "source": [
    "train , test = np.split(data.sample(frac = 1) , [int(0.8* len(data))])"
   ]
  },
  {
   "cell_type": "code",
   "execution_count": 15,
   "id": "e686e2e9",
   "metadata": {
    "execution": {
     "iopub.execute_input": "2023-02-19T14:13:01.479468Z",
     "iopub.status.busy": "2023-02-19T14:13:01.479043Z",
     "iopub.status.idle": "2023-02-19T14:13:01.484675Z",
     "shell.execute_reply": "2023-02-19T14:13:01.483635Z"
    },
    "papermill": {
     "duration": 0.022087,
     "end_time": "2023-02-19T14:13:01.486920",
     "exception": false,
     "start_time": "2023-02-19T14:13:01.464833",
     "status": "completed"
    },
    "tags": []
   },
   "outputs": [],
   "source": [
    "def pre(dataframe):\n",
    "    y = dataframe[\"Defaulted?\"]\n",
    "    \n",
    "    x = pd.DataFrame(StandardScaler().fit_transform(dataframe.drop(\"Defaulted?\" , axis = 1)))\n",
    "    \n",
    "    return x , y"
   ]
  },
  {
   "cell_type": "code",
   "execution_count": 16,
   "id": "5a29a65d",
   "metadata": {
    "execution": {
     "iopub.execute_input": "2023-02-19T14:13:01.515493Z",
     "iopub.status.busy": "2023-02-19T14:13:01.515076Z",
     "iopub.status.idle": "2023-02-19T14:13:01.530430Z",
     "shell.execute_reply": "2023-02-19T14:13:01.529310Z"
    },
    "papermill": {
     "duration": 0.032569,
     "end_time": "2023-02-19T14:13:01.532764",
     "exception": false,
     "start_time": "2023-02-19T14:13:01.500195",
     "status": "completed"
    },
    "tags": []
   },
   "outputs": [],
   "source": [
    "X_train , Y_train = pre(train)\n",
    "X_test , Y_test = pre(test)"
   ]
  },
  {
   "cell_type": "markdown",
   "id": "8096b8e7",
   "metadata": {
    "papermill": {
     "duration": 0.012685,
     "end_time": "2023-02-19T14:13:01.558488",
     "exception": false,
     "start_time": "2023-02-19T14:13:01.545803",
     "status": "completed"
    },
    "tags": []
   },
   "source": [
    "Our first model is [KNeighborsClassifier](https://scikit-learn.org/stable/modules/generated/sklearn.neighbors.KNeighborsClassifier.html)"
   ]
  },
  {
   "cell_type": "code",
   "execution_count": 17,
   "id": "0b87061f",
   "metadata": {
    "execution": {
     "iopub.execute_input": "2023-02-19T14:13:01.586284Z",
     "iopub.status.busy": "2023-02-19T14:13:01.585873Z",
     "iopub.status.idle": "2023-02-19T14:13:01.601687Z",
     "shell.execute_reply": "2023-02-19T14:13:01.600436Z"
    },
    "papermill": {
     "duration": 0.032739,
     "end_time": "2023-02-19T14:13:01.604237",
     "exception": false,
     "start_time": "2023-02-19T14:13:01.571498",
     "status": "completed"
    },
    "tags": []
   },
   "outputs": [
    {
     "data": {
      "text/html": [
       "<style>#sk-container-id-1 {color: black;background-color: white;}#sk-container-id-1 pre{padding: 0;}#sk-container-id-1 div.sk-toggleable {background-color: white;}#sk-container-id-1 label.sk-toggleable__label {cursor: pointer;display: block;width: 100%;margin-bottom: 0;padding: 0.3em;box-sizing: border-box;text-align: center;}#sk-container-id-1 label.sk-toggleable__label-arrow:before {content: \"▸\";float: left;margin-right: 0.25em;color: #696969;}#sk-container-id-1 label.sk-toggleable__label-arrow:hover:before {color: black;}#sk-container-id-1 div.sk-estimator:hover label.sk-toggleable__label-arrow:before {color: black;}#sk-container-id-1 div.sk-toggleable__content {max-height: 0;max-width: 0;overflow: hidden;text-align: left;background-color: #f0f8ff;}#sk-container-id-1 div.sk-toggleable__content pre {margin: 0.2em;color: black;border-radius: 0.25em;background-color: #f0f8ff;}#sk-container-id-1 input.sk-toggleable__control:checked~div.sk-toggleable__content {max-height: 200px;max-width: 100%;overflow: auto;}#sk-container-id-1 input.sk-toggleable__control:checked~label.sk-toggleable__label-arrow:before {content: \"▾\";}#sk-container-id-1 div.sk-estimator input.sk-toggleable__control:checked~label.sk-toggleable__label {background-color: #d4ebff;}#sk-container-id-1 div.sk-label input.sk-toggleable__control:checked~label.sk-toggleable__label {background-color: #d4ebff;}#sk-container-id-1 input.sk-hidden--visually {border: 0;clip: rect(1px 1px 1px 1px);clip: rect(1px, 1px, 1px, 1px);height: 1px;margin: -1px;overflow: hidden;padding: 0;position: absolute;width: 1px;}#sk-container-id-1 div.sk-estimator {font-family: monospace;background-color: #f0f8ff;border: 1px dotted black;border-radius: 0.25em;box-sizing: border-box;margin-bottom: 0.5em;}#sk-container-id-1 div.sk-estimator:hover {background-color: #d4ebff;}#sk-container-id-1 div.sk-parallel-item::after {content: \"\";width: 100%;border-bottom: 1px solid gray;flex-grow: 1;}#sk-container-id-1 div.sk-label:hover label.sk-toggleable__label {background-color: #d4ebff;}#sk-container-id-1 div.sk-serial::before {content: \"\";position: absolute;border-left: 1px solid gray;box-sizing: border-box;top: 0;bottom: 0;left: 50%;z-index: 0;}#sk-container-id-1 div.sk-serial {display: flex;flex-direction: column;align-items: center;background-color: white;padding-right: 0.2em;padding-left: 0.2em;position: relative;}#sk-container-id-1 div.sk-item {position: relative;z-index: 1;}#sk-container-id-1 div.sk-parallel {display: flex;align-items: stretch;justify-content: center;background-color: white;position: relative;}#sk-container-id-1 div.sk-item::before, #sk-container-id-1 div.sk-parallel-item::before {content: \"\";position: absolute;border-left: 1px solid gray;box-sizing: border-box;top: 0;bottom: 0;left: 50%;z-index: -1;}#sk-container-id-1 div.sk-parallel-item {display: flex;flex-direction: column;z-index: 1;position: relative;background-color: white;}#sk-container-id-1 div.sk-parallel-item:first-child::after {align-self: flex-end;width: 50%;}#sk-container-id-1 div.sk-parallel-item:last-child::after {align-self: flex-start;width: 50%;}#sk-container-id-1 div.sk-parallel-item:only-child::after {width: 0;}#sk-container-id-1 div.sk-dashed-wrapped {border: 1px dashed gray;margin: 0 0.4em 0.5em 0.4em;box-sizing: border-box;padding-bottom: 0.4em;background-color: white;}#sk-container-id-1 div.sk-label label {font-family: monospace;font-weight: bold;display: inline-block;line-height: 1.2em;}#sk-container-id-1 div.sk-label-container {text-align: center;}#sk-container-id-1 div.sk-container {/* jupyter's `normalize.less` sets `[hidden] { display: none; }` but bootstrap.min.css set `[hidden] { display: none !important; }` so we also need the `!important` here to be able to override the default hidden behavior on the sphinx rendered scikit-learn.org. See: https://github.com/scikit-learn/scikit-learn/issues/21755 */display: inline-block !important;position: relative;}#sk-container-id-1 div.sk-text-repr-fallback {display: none;}</style><div id=\"sk-container-id-1\" class=\"sk-top-container\"><div class=\"sk-text-repr-fallback\"><pre>KNeighborsClassifier()</pre><b>In a Jupyter environment, please rerun this cell to show the HTML representation or trust the notebook. <br />On GitHub, the HTML representation is unable to render, please try loading this page with nbviewer.org.</b></div><div class=\"sk-container\" hidden><div class=\"sk-item\"><div class=\"sk-estimator sk-toggleable\"><input class=\"sk-toggleable__control sk-hidden--visually\" id=\"sk-estimator-id-1\" type=\"checkbox\" checked><label for=\"sk-estimator-id-1\" class=\"sk-toggleable__label sk-toggleable__label-arrow\">KNeighborsClassifier</label><div class=\"sk-toggleable__content\"><pre>KNeighborsClassifier()</pre></div></div></div></div></div>"
      ],
      "text/plain": [
       "KNeighborsClassifier()"
      ]
     },
     "execution_count": 17,
     "metadata": {},
     "output_type": "execute_result"
    }
   ],
   "source": [
    "model_0 = KNeighborsClassifier()\n",
    "model_0.fit(X_train , Y_train)"
   ]
  },
  {
   "cell_type": "markdown",
   "id": "e8e57d21",
   "metadata": {
    "papermill": {
     "duration": 0.012707,
     "end_time": "2023-02-19T14:13:01.630221",
     "exception": false,
     "start_time": "2023-02-19T14:13:01.617514",
     "status": "completed"
    },
    "tags": []
   },
   "source": [
    "And the second one will be [LogisticRegression](https://scikit-learn.org/stable/modules/generated/sklearn.linear_model.LogisticRegression.html)"
   ]
  },
  {
   "cell_type": "code",
   "execution_count": 18,
   "id": "cbaa1419",
   "metadata": {
    "execution": {
     "iopub.execute_input": "2023-02-19T14:13:01.658277Z",
     "iopub.status.busy": "2023-02-19T14:13:01.657878Z",
     "iopub.status.idle": "2023-02-19T14:13:01.685569Z",
     "shell.execute_reply": "2023-02-19T14:13:01.683924Z"
    },
    "papermill": {
     "duration": 0.046436,
     "end_time": "2023-02-19T14:13:01.689652",
     "exception": false,
     "start_time": "2023-02-19T14:13:01.643216",
     "status": "completed"
    },
    "tags": []
   },
   "outputs": [
    {
     "data": {
      "text/html": [
       "<style>#sk-container-id-2 {color: black;background-color: white;}#sk-container-id-2 pre{padding: 0;}#sk-container-id-2 div.sk-toggleable {background-color: white;}#sk-container-id-2 label.sk-toggleable__label {cursor: pointer;display: block;width: 100%;margin-bottom: 0;padding: 0.3em;box-sizing: border-box;text-align: center;}#sk-container-id-2 label.sk-toggleable__label-arrow:before {content: \"▸\";float: left;margin-right: 0.25em;color: #696969;}#sk-container-id-2 label.sk-toggleable__label-arrow:hover:before {color: black;}#sk-container-id-2 div.sk-estimator:hover label.sk-toggleable__label-arrow:before {color: black;}#sk-container-id-2 div.sk-toggleable__content {max-height: 0;max-width: 0;overflow: hidden;text-align: left;background-color: #f0f8ff;}#sk-container-id-2 div.sk-toggleable__content pre {margin: 0.2em;color: black;border-radius: 0.25em;background-color: #f0f8ff;}#sk-container-id-2 input.sk-toggleable__control:checked~div.sk-toggleable__content {max-height: 200px;max-width: 100%;overflow: auto;}#sk-container-id-2 input.sk-toggleable__control:checked~label.sk-toggleable__label-arrow:before {content: \"▾\";}#sk-container-id-2 div.sk-estimator input.sk-toggleable__control:checked~label.sk-toggleable__label {background-color: #d4ebff;}#sk-container-id-2 div.sk-label input.sk-toggleable__control:checked~label.sk-toggleable__label {background-color: #d4ebff;}#sk-container-id-2 input.sk-hidden--visually {border: 0;clip: rect(1px 1px 1px 1px);clip: rect(1px, 1px, 1px, 1px);height: 1px;margin: -1px;overflow: hidden;padding: 0;position: absolute;width: 1px;}#sk-container-id-2 div.sk-estimator {font-family: monospace;background-color: #f0f8ff;border: 1px dotted black;border-radius: 0.25em;box-sizing: border-box;margin-bottom: 0.5em;}#sk-container-id-2 div.sk-estimator:hover {background-color: #d4ebff;}#sk-container-id-2 div.sk-parallel-item::after {content: \"\";width: 100%;border-bottom: 1px solid gray;flex-grow: 1;}#sk-container-id-2 div.sk-label:hover label.sk-toggleable__label {background-color: #d4ebff;}#sk-container-id-2 div.sk-serial::before {content: \"\";position: absolute;border-left: 1px solid gray;box-sizing: border-box;top: 0;bottom: 0;left: 50%;z-index: 0;}#sk-container-id-2 div.sk-serial {display: flex;flex-direction: column;align-items: center;background-color: white;padding-right: 0.2em;padding-left: 0.2em;position: relative;}#sk-container-id-2 div.sk-item {position: relative;z-index: 1;}#sk-container-id-2 div.sk-parallel {display: flex;align-items: stretch;justify-content: center;background-color: white;position: relative;}#sk-container-id-2 div.sk-item::before, #sk-container-id-2 div.sk-parallel-item::before {content: \"\";position: absolute;border-left: 1px solid gray;box-sizing: border-box;top: 0;bottom: 0;left: 50%;z-index: -1;}#sk-container-id-2 div.sk-parallel-item {display: flex;flex-direction: column;z-index: 1;position: relative;background-color: white;}#sk-container-id-2 div.sk-parallel-item:first-child::after {align-self: flex-end;width: 50%;}#sk-container-id-2 div.sk-parallel-item:last-child::after {align-self: flex-start;width: 50%;}#sk-container-id-2 div.sk-parallel-item:only-child::after {width: 0;}#sk-container-id-2 div.sk-dashed-wrapped {border: 1px dashed gray;margin: 0 0.4em 0.5em 0.4em;box-sizing: border-box;padding-bottom: 0.4em;background-color: white;}#sk-container-id-2 div.sk-label label {font-family: monospace;font-weight: bold;display: inline-block;line-height: 1.2em;}#sk-container-id-2 div.sk-label-container {text-align: center;}#sk-container-id-2 div.sk-container {/* jupyter's `normalize.less` sets `[hidden] { display: none; }` but bootstrap.min.css set `[hidden] { display: none !important; }` so we also need the `!important` here to be able to override the default hidden behavior on the sphinx rendered scikit-learn.org. See: https://github.com/scikit-learn/scikit-learn/issues/21755 */display: inline-block !important;position: relative;}#sk-container-id-2 div.sk-text-repr-fallback {display: none;}</style><div id=\"sk-container-id-2\" class=\"sk-top-container\"><div class=\"sk-text-repr-fallback\"><pre>LogisticRegression()</pre><b>In a Jupyter environment, please rerun this cell to show the HTML representation or trust the notebook. <br />On GitHub, the HTML representation is unable to render, please try loading this page with nbviewer.org.</b></div><div class=\"sk-container\" hidden><div class=\"sk-item\"><div class=\"sk-estimator sk-toggleable\"><input class=\"sk-toggleable__control sk-hidden--visually\" id=\"sk-estimator-id-2\" type=\"checkbox\" checked><label for=\"sk-estimator-id-2\" class=\"sk-toggleable__label sk-toggleable__label-arrow\">LogisticRegression</label><div class=\"sk-toggleable__content\"><pre>LogisticRegression()</pre></div></div></div></div></div>"
      ],
      "text/plain": [
       "LogisticRegression()"
      ]
     },
     "execution_count": 18,
     "metadata": {},
     "output_type": "execute_result"
    }
   ],
   "source": [
    "model_1 = LogisticRegression()\n",
    "model_1.fit(X_train , Y_train)"
   ]
  },
  {
   "cell_type": "markdown",
   "id": "04ba4d96",
   "metadata": {
    "papermill": {
     "duration": 0.032329,
     "end_time": "2023-02-19T14:13:01.755322",
     "exception": false,
     "start_time": "2023-02-19T14:13:01.722993",
     "status": "completed"
    },
    "tags": []
   },
   "source": [
    "The third one will be [GaussianNB](http://scikit-learn.org/stable/modules/generated/sklearn.naive_bayes.GaussianNB.html)"
   ]
  },
  {
   "cell_type": "code",
   "execution_count": 19,
   "id": "aafd4dd1",
   "metadata": {
    "execution": {
     "iopub.execute_input": "2023-02-19T14:13:01.811124Z",
     "iopub.status.busy": "2023-02-19T14:13:01.810741Z",
     "iopub.status.idle": "2023-02-19T14:13:01.822320Z",
     "shell.execute_reply": "2023-02-19T14:13:01.821235Z"
    },
    "papermill": {
     "duration": 0.036098,
     "end_time": "2023-02-19T14:13:01.824617",
     "exception": false,
     "start_time": "2023-02-19T14:13:01.788519",
     "status": "completed"
    },
    "tags": []
   },
   "outputs": [
    {
     "data": {
      "text/html": [
       "<style>#sk-container-id-3 {color: black;background-color: white;}#sk-container-id-3 pre{padding: 0;}#sk-container-id-3 div.sk-toggleable {background-color: white;}#sk-container-id-3 label.sk-toggleable__label {cursor: pointer;display: block;width: 100%;margin-bottom: 0;padding: 0.3em;box-sizing: border-box;text-align: center;}#sk-container-id-3 label.sk-toggleable__label-arrow:before {content: \"▸\";float: left;margin-right: 0.25em;color: #696969;}#sk-container-id-3 label.sk-toggleable__label-arrow:hover:before {color: black;}#sk-container-id-3 div.sk-estimator:hover label.sk-toggleable__label-arrow:before {color: black;}#sk-container-id-3 div.sk-toggleable__content {max-height: 0;max-width: 0;overflow: hidden;text-align: left;background-color: #f0f8ff;}#sk-container-id-3 div.sk-toggleable__content pre {margin: 0.2em;color: black;border-radius: 0.25em;background-color: #f0f8ff;}#sk-container-id-3 input.sk-toggleable__control:checked~div.sk-toggleable__content {max-height: 200px;max-width: 100%;overflow: auto;}#sk-container-id-3 input.sk-toggleable__control:checked~label.sk-toggleable__label-arrow:before {content: \"▾\";}#sk-container-id-3 div.sk-estimator input.sk-toggleable__control:checked~label.sk-toggleable__label {background-color: #d4ebff;}#sk-container-id-3 div.sk-label input.sk-toggleable__control:checked~label.sk-toggleable__label {background-color: #d4ebff;}#sk-container-id-3 input.sk-hidden--visually {border: 0;clip: rect(1px 1px 1px 1px);clip: rect(1px, 1px, 1px, 1px);height: 1px;margin: -1px;overflow: hidden;padding: 0;position: absolute;width: 1px;}#sk-container-id-3 div.sk-estimator {font-family: monospace;background-color: #f0f8ff;border: 1px dotted black;border-radius: 0.25em;box-sizing: border-box;margin-bottom: 0.5em;}#sk-container-id-3 div.sk-estimator:hover {background-color: #d4ebff;}#sk-container-id-3 div.sk-parallel-item::after {content: \"\";width: 100%;border-bottom: 1px solid gray;flex-grow: 1;}#sk-container-id-3 div.sk-label:hover label.sk-toggleable__label {background-color: #d4ebff;}#sk-container-id-3 div.sk-serial::before {content: \"\";position: absolute;border-left: 1px solid gray;box-sizing: border-box;top: 0;bottom: 0;left: 50%;z-index: 0;}#sk-container-id-3 div.sk-serial {display: flex;flex-direction: column;align-items: center;background-color: white;padding-right: 0.2em;padding-left: 0.2em;position: relative;}#sk-container-id-3 div.sk-item {position: relative;z-index: 1;}#sk-container-id-3 div.sk-parallel {display: flex;align-items: stretch;justify-content: center;background-color: white;position: relative;}#sk-container-id-3 div.sk-item::before, #sk-container-id-3 div.sk-parallel-item::before {content: \"\";position: absolute;border-left: 1px solid gray;box-sizing: border-box;top: 0;bottom: 0;left: 50%;z-index: -1;}#sk-container-id-3 div.sk-parallel-item {display: flex;flex-direction: column;z-index: 1;position: relative;background-color: white;}#sk-container-id-3 div.sk-parallel-item:first-child::after {align-self: flex-end;width: 50%;}#sk-container-id-3 div.sk-parallel-item:last-child::after {align-self: flex-start;width: 50%;}#sk-container-id-3 div.sk-parallel-item:only-child::after {width: 0;}#sk-container-id-3 div.sk-dashed-wrapped {border: 1px dashed gray;margin: 0 0.4em 0.5em 0.4em;box-sizing: border-box;padding-bottom: 0.4em;background-color: white;}#sk-container-id-3 div.sk-label label {font-family: monospace;font-weight: bold;display: inline-block;line-height: 1.2em;}#sk-container-id-3 div.sk-label-container {text-align: center;}#sk-container-id-3 div.sk-container {/* jupyter's `normalize.less` sets `[hidden] { display: none; }` but bootstrap.min.css set `[hidden] { display: none !important; }` so we also need the `!important` here to be able to override the default hidden behavior on the sphinx rendered scikit-learn.org. See: https://github.com/scikit-learn/scikit-learn/issues/21755 */display: inline-block !important;position: relative;}#sk-container-id-3 div.sk-text-repr-fallback {display: none;}</style><div id=\"sk-container-id-3\" class=\"sk-top-container\"><div class=\"sk-text-repr-fallback\"><pre>GaussianNB()</pre><b>In a Jupyter environment, please rerun this cell to show the HTML representation or trust the notebook. <br />On GitHub, the HTML representation is unable to render, please try loading this page with nbviewer.org.</b></div><div class=\"sk-container\" hidden><div class=\"sk-item\"><div class=\"sk-estimator sk-toggleable\"><input class=\"sk-toggleable__control sk-hidden--visually\" id=\"sk-estimator-id-3\" type=\"checkbox\" checked><label for=\"sk-estimator-id-3\" class=\"sk-toggleable__label sk-toggleable__label-arrow\">GaussianNB</label><div class=\"sk-toggleable__content\"><pre>GaussianNB()</pre></div></div></div></div></div>"
      ],
      "text/plain": [
       "GaussianNB()"
      ]
     },
     "execution_count": 19,
     "metadata": {},
     "output_type": "execute_result"
    }
   ],
   "source": [
    "model_2 = GaussianNB()\n",
    "model_2.fit(X_train , Y_train)"
   ]
  },
  {
   "cell_type": "markdown",
   "id": "a0f421de",
   "metadata": {
    "papermill": {
     "duration": 0.013133,
     "end_time": "2023-02-19T14:13:01.851322",
     "exception": false,
     "start_time": "2023-02-19T14:13:01.838189",
     "status": "completed"
    },
    "tags": []
   },
   "source": [
    "the fourth one will be [DecisionTreeClassifier](http://scikit-learn.org/stable/modules/generated/sklearn.tree.DecisionTreeClassifier.html)"
   ]
  },
  {
   "cell_type": "code",
   "execution_count": 20,
   "id": "86354b85",
   "metadata": {
    "execution": {
     "iopub.execute_input": "2023-02-19T14:13:01.880978Z",
     "iopub.status.busy": "2023-02-19T14:13:01.880567Z",
     "iopub.status.idle": "2023-02-19T14:13:01.909680Z",
     "shell.execute_reply": "2023-02-19T14:13:01.908482Z"
    },
    "papermill": {
     "duration": 0.046805,
     "end_time": "2023-02-19T14:13:01.912316",
     "exception": false,
     "start_time": "2023-02-19T14:13:01.865511",
     "status": "completed"
    },
    "tags": []
   },
   "outputs": [
    {
     "data": {
      "text/html": [
       "<style>#sk-container-id-4 {color: black;background-color: white;}#sk-container-id-4 pre{padding: 0;}#sk-container-id-4 div.sk-toggleable {background-color: white;}#sk-container-id-4 label.sk-toggleable__label {cursor: pointer;display: block;width: 100%;margin-bottom: 0;padding: 0.3em;box-sizing: border-box;text-align: center;}#sk-container-id-4 label.sk-toggleable__label-arrow:before {content: \"▸\";float: left;margin-right: 0.25em;color: #696969;}#sk-container-id-4 label.sk-toggleable__label-arrow:hover:before {color: black;}#sk-container-id-4 div.sk-estimator:hover label.sk-toggleable__label-arrow:before {color: black;}#sk-container-id-4 div.sk-toggleable__content {max-height: 0;max-width: 0;overflow: hidden;text-align: left;background-color: #f0f8ff;}#sk-container-id-4 div.sk-toggleable__content pre {margin: 0.2em;color: black;border-radius: 0.25em;background-color: #f0f8ff;}#sk-container-id-4 input.sk-toggleable__control:checked~div.sk-toggleable__content {max-height: 200px;max-width: 100%;overflow: auto;}#sk-container-id-4 input.sk-toggleable__control:checked~label.sk-toggleable__label-arrow:before {content: \"▾\";}#sk-container-id-4 div.sk-estimator input.sk-toggleable__control:checked~label.sk-toggleable__label {background-color: #d4ebff;}#sk-container-id-4 div.sk-label input.sk-toggleable__control:checked~label.sk-toggleable__label {background-color: #d4ebff;}#sk-container-id-4 input.sk-hidden--visually {border: 0;clip: rect(1px 1px 1px 1px);clip: rect(1px, 1px, 1px, 1px);height: 1px;margin: -1px;overflow: hidden;padding: 0;position: absolute;width: 1px;}#sk-container-id-4 div.sk-estimator {font-family: monospace;background-color: #f0f8ff;border: 1px dotted black;border-radius: 0.25em;box-sizing: border-box;margin-bottom: 0.5em;}#sk-container-id-4 div.sk-estimator:hover {background-color: #d4ebff;}#sk-container-id-4 div.sk-parallel-item::after {content: \"\";width: 100%;border-bottom: 1px solid gray;flex-grow: 1;}#sk-container-id-4 div.sk-label:hover label.sk-toggleable__label {background-color: #d4ebff;}#sk-container-id-4 div.sk-serial::before {content: \"\";position: absolute;border-left: 1px solid gray;box-sizing: border-box;top: 0;bottom: 0;left: 50%;z-index: 0;}#sk-container-id-4 div.sk-serial {display: flex;flex-direction: column;align-items: center;background-color: white;padding-right: 0.2em;padding-left: 0.2em;position: relative;}#sk-container-id-4 div.sk-item {position: relative;z-index: 1;}#sk-container-id-4 div.sk-parallel {display: flex;align-items: stretch;justify-content: center;background-color: white;position: relative;}#sk-container-id-4 div.sk-item::before, #sk-container-id-4 div.sk-parallel-item::before {content: \"\";position: absolute;border-left: 1px solid gray;box-sizing: border-box;top: 0;bottom: 0;left: 50%;z-index: -1;}#sk-container-id-4 div.sk-parallel-item {display: flex;flex-direction: column;z-index: 1;position: relative;background-color: white;}#sk-container-id-4 div.sk-parallel-item:first-child::after {align-self: flex-end;width: 50%;}#sk-container-id-4 div.sk-parallel-item:last-child::after {align-self: flex-start;width: 50%;}#sk-container-id-4 div.sk-parallel-item:only-child::after {width: 0;}#sk-container-id-4 div.sk-dashed-wrapped {border: 1px dashed gray;margin: 0 0.4em 0.5em 0.4em;box-sizing: border-box;padding-bottom: 0.4em;background-color: white;}#sk-container-id-4 div.sk-label label {font-family: monospace;font-weight: bold;display: inline-block;line-height: 1.2em;}#sk-container-id-4 div.sk-label-container {text-align: center;}#sk-container-id-4 div.sk-container {/* jupyter's `normalize.less` sets `[hidden] { display: none; }` but bootstrap.min.css set `[hidden] { display: none !important; }` so we also need the `!important` here to be able to override the default hidden behavior on the sphinx rendered scikit-learn.org. See: https://github.com/scikit-learn/scikit-learn/issues/21755 */display: inline-block !important;position: relative;}#sk-container-id-4 div.sk-text-repr-fallback {display: none;}</style><div id=\"sk-container-id-4\" class=\"sk-top-container\"><div class=\"sk-text-repr-fallback\"><pre>DecisionTreeClassifier()</pre><b>In a Jupyter environment, please rerun this cell to show the HTML representation or trust the notebook. <br />On GitHub, the HTML representation is unable to render, please try loading this page with nbviewer.org.</b></div><div class=\"sk-container\" hidden><div class=\"sk-item\"><div class=\"sk-estimator sk-toggleable\"><input class=\"sk-toggleable__control sk-hidden--visually\" id=\"sk-estimator-id-4\" type=\"checkbox\" checked><label for=\"sk-estimator-id-4\" class=\"sk-toggleable__label sk-toggleable__label-arrow\">DecisionTreeClassifier</label><div class=\"sk-toggleable__content\"><pre>DecisionTreeClassifier()</pre></div></div></div></div></div>"
      ],
      "text/plain": [
       "DecisionTreeClassifier()"
      ]
     },
     "execution_count": 20,
     "metadata": {},
     "output_type": "execute_result"
    }
   ],
   "source": [
    "model_3 = DecisionTreeClassifier()\n",
    "model_3.fit(X_train , Y_train)"
   ]
  },
  {
   "cell_type": "markdown",
   "id": "155dc5f7",
   "metadata": {
    "papermill": {
     "duration": 0.013244,
     "end_time": "2023-02-19T14:13:01.939443",
     "exception": false,
     "start_time": "2023-02-19T14:13:01.926199",
     "status": "completed"
    },
    "tags": []
   },
   "source": [
    "The fifth one will be [RandomForestClassifier](http://scikit-learn.org/stable/modules/generated/sklearn.ensemble.RandomForestClassifier.html)"
   ]
  },
  {
   "cell_type": "code",
   "execution_count": 21,
   "id": "c46e850b",
   "metadata": {
    "execution": {
     "iopub.execute_input": "2023-02-19T14:13:01.968790Z",
     "iopub.status.busy": "2023-02-19T14:13:01.968355Z",
     "iopub.status.idle": "2023-02-19T14:13:02.766943Z",
     "shell.execute_reply": "2023-02-19T14:13:02.765897Z"
    },
    "papermill": {
     "duration": 0.816413,
     "end_time": "2023-02-19T14:13:02.769313",
     "exception": false,
     "start_time": "2023-02-19T14:13:01.952900",
     "status": "completed"
    },
    "tags": []
   },
   "outputs": [
    {
     "data": {
      "text/html": [
       "<style>#sk-container-id-5 {color: black;background-color: white;}#sk-container-id-5 pre{padding: 0;}#sk-container-id-5 div.sk-toggleable {background-color: white;}#sk-container-id-5 label.sk-toggleable__label {cursor: pointer;display: block;width: 100%;margin-bottom: 0;padding: 0.3em;box-sizing: border-box;text-align: center;}#sk-container-id-5 label.sk-toggleable__label-arrow:before {content: \"▸\";float: left;margin-right: 0.25em;color: #696969;}#sk-container-id-5 label.sk-toggleable__label-arrow:hover:before {color: black;}#sk-container-id-5 div.sk-estimator:hover label.sk-toggleable__label-arrow:before {color: black;}#sk-container-id-5 div.sk-toggleable__content {max-height: 0;max-width: 0;overflow: hidden;text-align: left;background-color: #f0f8ff;}#sk-container-id-5 div.sk-toggleable__content pre {margin: 0.2em;color: black;border-radius: 0.25em;background-color: #f0f8ff;}#sk-container-id-5 input.sk-toggleable__control:checked~div.sk-toggleable__content {max-height: 200px;max-width: 100%;overflow: auto;}#sk-container-id-5 input.sk-toggleable__control:checked~label.sk-toggleable__label-arrow:before {content: \"▾\";}#sk-container-id-5 div.sk-estimator input.sk-toggleable__control:checked~label.sk-toggleable__label {background-color: #d4ebff;}#sk-container-id-5 div.sk-label input.sk-toggleable__control:checked~label.sk-toggleable__label {background-color: #d4ebff;}#sk-container-id-5 input.sk-hidden--visually {border: 0;clip: rect(1px 1px 1px 1px);clip: rect(1px, 1px, 1px, 1px);height: 1px;margin: -1px;overflow: hidden;padding: 0;position: absolute;width: 1px;}#sk-container-id-5 div.sk-estimator {font-family: monospace;background-color: #f0f8ff;border: 1px dotted black;border-radius: 0.25em;box-sizing: border-box;margin-bottom: 0.5em;}#sk-container-id-5 div.sk-estimator:hover {background-color: #d4ebff;}#sk-container-id-5 div.sk-parallel-item::after {content: \"\";width: 100%;border-bottom: 1px solid gray;flex-grow: 1;}#sk-container-id-5 div.sk-label:hover label.sk-toggleable__label {background-color: #d4ebff;}#sk-container-id-5 div.sk-serial::before {content: \"\";position: absolute;border-left: 1px solid gray;box-sizing: border-box;top: 0;bottom: 0;left: 50%;z-index: 0;}#sk-container-id-5 div.sk-serial {display: flex;flex-direction: column;align-items: center;background-color: white;padding-right: 0.2em;padding-left: 0.2em;position: relative;}#sk-container-id-5 div.sk-item {position: relative;z-index: 1;}#sk-container-id-5 div.sk-parallel {display: flex;align-items: stretch;justify-content: center;background-color: white;position: relative;}#sk-container-id-5 div.sk-item::before, #sk-container-id-5 div.sk-parallel-item::before {content: \"\";position: absolute;border-left: 1px solid gray;box-sizing: border-box;top: 0;bottom: 0;left: 50%;z-index: -1;}#sk-container-id-5 div.sk-parallel-item {display: flex;flex-direction: column;z-index: 1;position: relative;background-color: white;}#sk-container-id-5 div.sk-parallel-item:first-child::after {align-self: flex-end;width: 50%;}#sk-container-id-5 div.sk-parallel-item:last-child::after {align-self: flex-start;width: 50%;}#sk-container-id-5 div.sk-parallel-item:only-child::after {width: 0;}#sk-container-id-5 div.sk-dashed-wrapped {border: 1px dashed gray;margin: 0 0.4em 0.5em 0.4em;box-sizing: border-box;padding-bottom: 0.4em;background-color: white;}#sk-container-id-5 div.sk-label label {font-family: monospace;font-weight: bold;display: inline-block;line-height: 1.2em;}#sk-container-id-5 div.sk-label-container {text-align: center;}#sk-container-id-5 div.sk-container {/* jupyter's `normalize.less` sets `[hidden] { display: none; }` but bootstrap.min.css set `[hidden] { display: none !important; }` so we also need the `!important` here to be able to override the default hidden behavior on the sphinx rendered scikit-learn.org. See: https://github.com/scikit-learn/scikit-learn/issues/21755 */display: inline-block !important;position: relative;}#sk-container-id-5 div.sk-text-repr-fallback {display: none;}</style><div id=\"sk-container-id-5\" class=\"sk-top-container\"><div class=\"sk-text-repr-fallback\"><pre>RandomForestClassifier()</pre><b>In a Jupyter environment, please rerun this cell to show the HTML representation or trust the notebook. <br />On GitHub, the HTML representation is unable to render, please try loading this page with nbviewer.org.</b></div><div class=\"sk-container\" hidden><div class=\"sk-item\"><div class=\"sk-estimator sk-toggleable\"><input class=\"sk-toggleable__control sk-hidden--visually\" id=\"sk-estimator-id-5\" type=\"checkbox\" checked><label for=\"sk-estimator-id-5\" class=\"sk-toggleable__label sk-toggleable__label-arrow\">RandomForestClassifier</label><div class=\"sk-toggleable__content\"><pre>RandomForestClassifier()</pre></div></div></div></div></div>"
      ],
      "text/plain": [
       "RandomForestClassifier()"
      ]
     },
     "execution_count": 21,
     "metadata": {},
     "output_type": "execute_result"
    }
   ],
   "source": [
    "model_4 = RandomForestClassifier()\n",
    "model_4.fit(X_train , Y_train)"
   ]
  },
  {
   "cell_type": "markdown",
   "id": "30687fb7",
   "metadata": {
    "papermill": {
     "duration": 0.013491,
     "end_time": "2023-02-19T14:13:02.796589",
     "exception": false,
     "start_time": "2023-02-19T14:13:02.783098",
     "status": "completed"
    },
    "tags": []
   },
   "source": [
    "Now we will predict the accuracy of our models"
   ]
  },
  {
   "cell_type": "code",
   "execution_count": 23,
   "id": "46005baa",
   "metadata": {
    "execution": {
     "iopub.execute_input": "2023-02-19T14:13:02.826438Z",
     "iopub.status.busy": "2023-02-19T14:13:02.825217Z",
     "iopub.status.idle": "2023-02-19T14:13:02.939846Z",
     "shell.execute_reply": "2023-02-19T14:13:02.938565Z"
    },
    "papermill": {
     "duration": 0.132426,
     "end_time": "2023-02-19T14:13:02.942640",
     "exception": false,
     "start_time": "2023-02-19T14:13:02.810214",
     "status": "completed"
    },
    "tags": []
   },
   "outputs": [
    {
     "name": "stdout",
     "output_type": "stream",
     "text": [
      "Accracy of  KNeighborsClassifier() is 0.966\n",
      "Accracy of  LogisticRegression() is 0.9685\n",
      "Accracy of  GaussianNB() is 0.9675\n",
      "Accracy of  DecisionTreeClassifier() is 0.9565\n",
      "Accracy of  RandomForestClassifier() is 0.9685\n"
     ]
    }
   ],
   "source": [
    "print(\"Accracy of \" , model_0 , \"is\" , accuracy_score(Y_test , model_0.predict(X_test)))\n",
    "print(\"Accracy of \" , model_1 , \"is\" , accuracy_score(Y_test , model_1.predict(X_test)))\n",
    "print(\"Accracy of \" , model_2 , \"is\" , accuracy_score(Y_test , model_2.predict(X_test)))\n",
    "print(\"Accracy of \" , model_3 , \"is\" , accuracy_score(Y_test , model_3.predict(X_test)))\n",
    "print(\"Accracy of \" , model_4 , \"is\" , accuracy_score(Y_test , model_4.predict(X_test)))\n"
   ]
  },
  {
   "cell_type": "markdown",
   "id": "efe3899b",
   "metadata": {
    "papermill": {
     "duration": 0.013839,
     "end_time": "2023-02-19T14:13:02.970980",
     "exception": false,
     "start_time": "2023-02-19T14:13:02.957141",
     "status": "completed"
    },
    "tags": []
   },
   "source": [
    "Now we will be training some neural networks"
   ]
  },
  {
   "cell_type": "code",
   "execution_count": 28,
   "id": "0da7072b",
   "metadata": {
    "execution": {
     "iopub.execute_input": "2023-02-19T14:13:03.000817Z",
     "iopub.status.busy": "2023-02-19T14:13:03.000043Z",
     "iopub.status.idle": "2023-02-19T14:13:03.376995Z",
     "shell.execute_reply": "2023-02-19T14:13:03.375810Z"
    },
    "papermill": {
     "duration": 0.395012,
     "end_time": "2023-02-19T14:13:03.379832",
     "exception": false,
     "start_time": "2023-02-19T14:13:02.984820",
     "status": "completed"
    },
    "tags": []
   },
   "outputs": [],
   "source": [
    "model = Sequential()\n",
    "model.add(Dense(64 , activation = \"relu\" , input_dim = 3))\n",
    "model.add(Dense(128 , activation = \"relu\" ))\n",
    "model.add(Dense(128 , activation = \"relu\" ))\n",
    "model.add(Dense(256 , activation = \"relu\"))\n",
    "model.add(Dense(3 , activation = \"relu\"))\n",
    "model.add(Dense(1 , activation = \"relu\"))"
   ]
  },
  {
   "cell_type": "code",
   "execution_count": 29,
   "id": "bcdcb56e",
   "metadata": {
    "execution": {
     "iopub.execute_input": "2023-02-19T14:13:03.409716Z",
     "iopub.status.busy": "2023-02-19T14:13:03.409301Z",
     "iopub.status.idle": "2023-02-19T14:13:03.438933Z",
     "shell.execute_reply": "2023-02-19T14:13:03.437855Z"
    },
    "papermill": {
     "duration": 0.047446,
     "end_time": "2023-02-19T14:13:03.441315",
     "exception": false,
     "start_time": "2023-02-19T14:13:03.393869",
     "status": "completed"
    },
    "tags": []
   },
   "outputs": [
    {
     "name": "stdout",
     "output_type": "stream",
     "text": [
      "Model: \"sequential_1\"\n",
      "_________________________________________________________________\n",
      " Layer (type)                Output Shape              Param #   \n",
      "=================================================================\n",
      " dense_6 (Dense)             (None, 64)                256       \n",
      "                                                                 \n",
      " dense_7 (Dense)             (None, 128)               8320      \n",
      "                                                                 \n",
      " dense_8 (Dense)             (None, 128)               16512     \n",
      "                                                                 \n",
      " dense_9 (Dense)             (None, 256)               33024     \n",
      "                                                                 \n",
      " dense_10 (Dense)            (None, 3)                 771       \n",
      "                                                                 \n",
      " dense_11 (Dense)            (None, 1)                 4         \n",
      "                                                                 \n",
      "=================================================================\n",
      "Total params: 58,887\n",
      "Trainable params: 58,887\n",
      "Non-trainable params: 0\n",
      "_________________________________________________________________\n"
     ]
    }
   ],
   "source": [
    "model.summary()"
   ]
  },
  {
   "cell_type": "code",
   "execution_count": 30,
   "id": "3fb9f9ad",
   "metadata": {
    "execution": {
     "iopub.execute_input": "2023-02-19T14:13:03.474372Z",
     "iopub.status.busy": "2023-02-19T14:13:03.473948Z",
     "iopub.status.idle": "2023-02-19T14:13:03.488856Z",
     "shell.execute_reply": "2023-02-19T14:13:03.487676Z"
    },
    "papermill": {
     "duration": 0.034271,
     "end_time": "2023-02-19T14:13:03.491343",
     "exception": false,
     "start_time": "2023-02-19T14:13:03.457072",
     "status": "completed"
    },
    "tags": []
   },
   "outputs": [],
   "source": [
    "model.compile(loss = \"binary_crossentropy\" , optimizer = \"adam\" , metrics = [\"accuracy\"])"
   ]
  },
  {
   "cell_type": "code",
   "execution_count": 31,
   "id": "545a86aa",
   "metadata": {
    "execution": {
     "iopub.execute_input": "2023-02-19T14:13:03.523769Z",
     "iopub.status.busy": "2023-02-19T14:13:03.523310Z",
     "iopub.status.idle": "2023-02-19T14:13:50.277354Z",
     "shell.execute_reply": "2023-02-19T14:13:50.275843Z"
    },
    "papermill": {
     "duration": 46.773414,
     "end_time": "2023-02-19T14:13:50.280101",
     "exception": false,
     "start_time": "2023-02-19T14:13:03.506687",
     "status": "completed"
    },
    "tags": []
   },
   "outputs": [
    {
     "name": "stdout",
     "output_type": "stream",
     "text": [
      "Epoch 1/50\n",
      "200/200 [==============================] - 2s 7ms/step - loss: 0.1900 - accuracy: 0.9631 - val_loss: 0.1391 - val_accuracy: 0.9656\n",
      "Epoch 2/50\n",
      "200/200 [==============================] - 1s 5ms/step - loss: 0.1272 - accuracy: 0.9698 - val_loss: 0.1640 - val_accuracy: 0.9712\n",
      "Epoch 3/50\n",
      "200/200 [==============================] - 1s 4ms/step - loss: 0.1720 - accuracy: 0.9588 - val_loss: 0.1868 - val_accuracy: 0.9431\n",
      "Epoch 4/50\n",
      "200/200 [==============================] - 1s 5ms/step - loss: 0.5075 - accuracy: 0.9667 - val_loss: 0.4338 - val_accuracy: 0.9719\n",
      "Epoch 5/50\n",
      "200/200 [==============================] - 1s 4ms/step - loss: 0.5085 - accuracy: 0.9670 - val_loss: 0.4338 - val_accuracy: 0.9719\n",
      "Epoch 6/50\n",
      "200/200 [==============================] - 1s 5ms/step - loss: 0.5085 - accuracy: 0.9670 - val_loss: 0.4338 - val_accuracy: 0.9719\n",
      "Epoch 7/50\n",
      "200/200 [==============================] - 1s 5ms/step - loss: 0.5085 - accuracy: 0.9670 - val_loss: 0.4338 - val_accuracy: 0.9719\n",
      "Epoch 8/50\n",
      "200/200 [==============================] - 1s 4ms/step - loss: 0.5085 - accuracy: 0.9670 - val_loss: 0.4338 - val_accuracy: 0.9719\n",
      "Epoch 9/50\n",
      "200/200 [==============================] - 1s 5ms/step - loss: 0.5085 - accuracy: 0.9670 - val_loss: 0.4338 - val_accuracy: 0.9719\n",
      "Epoch 10/50\n",
      "200/200 [==============================] - 1s 4ms/step - loss: 0.5085 - accuracy: 0.9670 - val_loss: 0.4338 - val_accuracy: 0.9719\n",
      "Epoch 11/50\n",
      "200/200 [==============================] - 1s 4ms/step - loss: 0.5085 - accuracy: 0.9670 - val_loss: 0.4338 - val_accuracy: 0.9719\n",
      "Epoch 12/50\n",
      "200/200 [==============================] - 1s 7ms/step - loss: 0.5085 - accuracy: 0.9670 - val_loss: 0.4338 - val_accuracy: 0.9719\n",
      "Epoch 13/50\n",
      "200/200 [==============================] - 1s 4ms/step - loss: 0.5085 - accuracy: 0.9670 - val_loss: 0.4338 - val_accuracy: 0.9719\n",
      "Epoch 14/50\n",
      "200/200 [==============================] - 1s 5ms/step - loss: 0.5085 - accuracy: 0.9670 - val_loss: 0.4338 - val_accuracy: 0.9719\n",
      "Epoch 15/50\n",
      "200/200 [==============================] - 1s 5ms/step - loss: 0.5085 - accuracy: 0.9670 - val_loss: 0.4338 - val_accuracy: 0.9719\n",
      "Epoch 16/50\n",
      "200/200 [==============================] - 1s 7ms/step - loss: 0.5085 - accuracy: 0.9670 - val_loss: 0.4338 - val_accuracy: 0.9719\n",
      "Epoch 17/50\n",
      "200/200 [==============================] - 1s 7ms/step - loss: 0.5085 - accuracy: 0.9670 - val_loss: 0.4338 - val_accuracy: 0.9719\n",
      "Epoch 18/50\n",
      "200/200 [==============================] - 1s 5ms/step - loss: 0.5085 - accuracy: 0.9670 - val_loss: 0.4338 - val_accuracy: 0.9719\n",
      "Epoch 19/50\n",
      "200/200 [==============================] - 1s 5ms/step - loss: 0.5085 - accuracy: 0.9670 - val_loss: 0.4338 - val_accuracy: 0.9719\n",
      "Epoch 20/50\n",
      "200/200 [==============================] - 1s 5ms/step - loss: 0.5085 - accuracy: 0.9670 - val_loss: 0.4338 - val_accuracy: 0.9719\n",
      "Epoch 21/50\n",
      "200/200 [==============================] - 1s 4ms/step - loss: 0.5085 - accuracy: 0.9670 - val_loss: 0.4338 - val_accuracy: 0.9719\n",
      "Epoch 22/50\n",
      "200/200 [==============================] - 1s 4ms/step - loss: 0.5085 - accuracy: 0.9670 - val_loss: 0.4338 - val_accuracy: 0.9719\n",
      "Epoch 23/50\n",
      "200/200 [==============================] - 1s 4ms/step - loss: 0.5085 - accuracy: 0.9670 - val_loss: 0.4338 - val_accuracy: 0.9719\n",
      "Epoch 24/50\n",
      "200/200 [==============================] - 1s 4ms/step - loss: 0.5085 - accuracy: 0.9670 - val_loss: 0.4338 - val_accuracy: 0.9719\n",
      "Epoch 25/50\n",
      "200/200 [==============================] - 1s 5ms/step - loss: 0.5085 - accuracy: 0.9670 - val_loss: 0.4338 - val_accuracy: 0.9719\n",
      "Epoch 26/50\n",
      "200/200 [==============================] - 1s 5ms/step - loss: 0.5085 - accuracy: 0.9670 - val_loss: 0.4338 - val_accuracy: 0.9719\n",
      "Epoch 27/50\n",
      "200/200 [==============================] - 1s 4ms/step - loss: 0.5085 - accuracy: 0.9670 - val_loss: 0.4338 - val_accuracy: 0.9719\n",
      "Epoch 28/50\n",
      "200/200 [==============================] - 1s 4ms/step - loss: 0.5085 - accuracy: 0.9670 - val_loss: 0.4338 - val_accuracy: 0.9719\n",
      "Epoch 29/50\n",
      "200/200 [==============================] - 1s 4ms/step - loss: 0.5085 - accuracy: 0.9670 - val_loss: 0.4338 - val_accuracy: 0.9719\n",
      "Epoch 30/50\n",
      "200/200 [==============================] - 1s 5ms/step - loss: 0.5085 - accuracy: 0.9670 - val_loss: 0.4338 - val_accuracy: 0.9719\n",
      "Epoch 31/50\n",
      "200/200 [==============================] - 1s 4ms/step - loss: 0.5085 - accuracy: 0.9670 - val_loss: 0.4338 - val_accuracy: 0.9719\n",
      "Epoch 32/50\n",
      "200/200 [==============================] - 1s 4ms/step - loss: 0.5085 - accuracy: 0.9670 - val_loss: 0.4338 - val_accuracy: 0.9719\n",
      "Epoch 33/50\n",
      "200/200 [==============================] - 1s 5ms/step - loss: 0.5085 - accuracy: 0.9670 - val_loss: 0.4338 - val_accuracy: 0.9719\n",
      "Epoch 34/50\n",
      "200/200 [==============================] - 1s 5ms/step - loss: 0.5085 - accuracy: 0.9670 - val_loss: 0.4338 - val_accuracy: 0.9719\n",
      "Epoch 35/50\n",
      "200/200 [==============================] - 1s 5ms/step - loss: 0.5085 - accuracy: 0.9670 - val_loss: 0.4338 - val_accuracy: 0.9719\n",
      "Epoch 36/50\n",
      "200/200 [==============================] - 1s 5ms/step - loss: 0.5085 - accuracy: 0.9670 - val_loss: 0.4338 - val_accuracy: 0.9719\n",
      "Epoch 37/50\n",
      "200/200 [==============================] - 1s 6ms/step - loss: 0.5085 - accuracy: 0.9670 - val_loss: 0.4338 - val_accuracy: 0.9719\n",
      "Epoch 38/50\n",
      "200/200 [==============================] - 1s 5ms/step - loss: 0.5085 - accuracy: 0.9670 - val_loss: 0.4338 - val_accuracy: 0.9719\n",
      "Epoch 39/50\n",
      "200/200 [==============================] - 1s 5ms/step - loss: 0.5085 - accuracy: 0.9670 - val_loss: 0.4338 - val_accuracy: 0.9719\n",
      "Epoch 40/50\n",
      "200/200 [==============================] - 1s 5ms/step - loss: 0.5085 - accuracy: 0.9670 - val_loss: 0.4338 - val_accuracy: 0.9719\n",
      "Epoch 41/50\n",
      "200/200 [==============================] - 1s 6ms/step - loss: 0.5085 - accuracy: 0.9670 - val_loss: 0.4338 - val_accuracy: 0.9719\n",
      "Epoch 42/50\n",
      "200/200 [==============================] - 1s 7ms/step - loss: 0.5085 - accuracy: 0.9670 - val_loss: 0.4338 - val_accuracy: 0.9719\n",
      "Epoch 43/50\n",
      "200/200 [==============================] - 1s 5ms/step - loss: 0.5085 - accuracy: 0.9670 - val_loss: 0.4338 - val_accuracy: 0.9719\n",
      "Epoch 44/50\n",
      "200/200 [==============================] - 1s 5ms/step - loss: 0.5085 - accuracy: 0.9670 - val_loss: 0.4338 - val_accuracy: 0.9719\n",
      "Epoch 45/50\n",
      "200/200 [==============================] - 2s 8ms/step - loss: 0.5085 - accuracy: 0.9670 - val_loss: 0.4338 - val_accuracy: 0.9719\n",
      "Epoch 46/50\n",
      "200/200 [==============================] - 2s 8ms/step - loss: 0.5085 - accuracy: 0.9670 - val_loss: 0.4338 - val_accuracy: 0.9719\n",
      "Epoch 47/50\n",
      "200/200 [==============================] - 2s 8ms/step - loss: 0.5085 - accuracy: 0.9670 - val_loss: 0.4338 - val_accuracy: 0.9719\n",
      "Epoch 48/50\n",
      "200/200 [==============================] - 2s 8ms/step - loss: 0.5085 - accuracy: 0.9670 - val_loss: 0.4338 - val_accuracy: 0.9719\n",
      "Epoch 49/50\n",
      "200/200 [==============================] - 1s 7ms/step - loss: 0.5085 - accuracy: 0.9670 - val_loss: 0.4338 - val_accuracy: 0.9719\n",
      "Epoch 50/50\n",
      "200/200 [==============================] - 2s 9ms/step - loss: 0.5085 - accuracy: 0.9670 - val_loss: 0.4338 - val_accuracy: 0.9719\n"
     ]
    }
   ],
   "source": [
    "sample_fit = model.fit(X_train , Y_train , epochs = 50 , validation_split = 0.2)"
   ]
  },
  {
   "cell_type": "code",
   "execution_count": 33,
   "id": "4c2c692a",
   "metadata": {
    "execution": {
     "iopub.execute_input": "2023-02-19T14:13:50.792313Z",
     "iopub.status.busy": "2023-02-19T14:13:50.791888Z",
     "iopub.status.idle": "2023-02-19T14:13:51.064981Z",
     "shell.execute_reply": "2023-02-19T14:13:51.064018Z"
    },
    "papermill": {
     "duration": 0.351154,
     "end_time": "2023-02-19T14:13:51.067510",
     "exception": false,
     "start_time": "2023-02-19T14:13:50.716356",
     "status": "completed"
    },
    "tags": []
   },
   "outputs": [
    {
     "name": "stdout",
     "output_type": "stream",
     "text": [
      "63/63 [==============================] - 1s 4ms/step\n",
      "0.9615\n"
     ]
    }
   ],
   "source": [
    "y_log = model.predict(X_test)\n",
    "y_pred = np.where(y_log > 0 , 1 , 0)\n",
    "print(accuracy_score(Y_test , y_pred))"
   ]
  },
  {
   "cell_type": "markdown",
   "id": "daffb004",
   "metadata": {
    "papermill": {
     "duration": 0.073418,
     "end_time": "2023-02-19T14:13:51.216796",
     "exception": false,
     "start_time": "2023-02-19T14:13:51.143378",
     "status": "completed"
    },
    "tags": []
   },
   "source": [
    "We got a really good accuracy with $96.85$% percentage in Random forests"
   ]
  }
 ],
 "metadata": {
  "kernelspec": {
   "display_name": "Python 3",
   "language": "python",
   "name": "python3"
  },
  "language_info": {
   "codemirror_mode": {
    "name": "ipython",
    "version": 3
   },
   "file_extension": ".py",
   "mimetype": "text/x-python",
   "name": "python",
   "nbconvert_exporter": "python",
   "pygments_lexer": "ipython3",
   "version": "3.9.12"
  },
  "papermill": {
   "default_parameters": {},
   "duration": 80.313438,
   "end_time": "2023-02-19T14:13:54.268451",
   "environment_variables": {},
   "exception": null,
   "input_path": "__notebook__.ipynb",
   "output_path": "__notebook__.ipynb",
   "parameters": {},
   "start_time": "2023-02-19T14:12:33.955013",
   "version": "2.3.4"
  }
 },
 "nbformat": 4,
 "nbformat_minor": 5
}
